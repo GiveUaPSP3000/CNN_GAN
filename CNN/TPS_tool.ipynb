{
 "cells": [
  {
   "cell_type": "code",
   "execution_count": 1,
   "metadata": {
    "collapsed": true,
    "pycharm": {
     "name": "#%%\n"
    }
   },
   "outputs": [],
   "source": [
    "# -*- coding:utf-8 -*-\n",
    "\n",
    "from __future__ import division\n",
    "import tkinter as tk\n",
    "from tkinter import *\n",
    "import tkinter.messagebox as messagebox\n",
    "from PIL import Image, ImageTk\n",
    "import os\n",
    "import cv2\n",
    "import numpy as np\n",
    "\n",
    "\n",
    "class LabelTool():\n",
    "    def __init__(self, master):\n",
    "        # 初始化变量\n",
    "        # 图片1初始路径\n",
    "        self.image1_dir = ''\n",
    "        # 图片2初始路径\n",
    "        self.image2_dir = ''\n",
    "        # 标签记录1\n",
    "        self.label1_record = []\n",
    "        # 标签记录2\n",
    "        self.label2_record = []\n",
    "        # 图片1状态\n",
    "        self.image1 = None\n",
    "        # 图片2状态\n",
    "        self.image2 = None\n",
    "        # 状态1, 0代表未转换，1代表已转换\n",
    "        self.sta1 = 0\n",
    "        # 状态2\n",
    "        self.sta2 = 0\n",
    "\n",
    "        # 设置主要框架\n",
    "        self.parent = master\n",
    "        self.parent.title(\"TPS融合\")\n",
    "        self.frame = tk.Frame(self.parent)\n",
    "        self.frame.pack(fill=tk.BOTH, expand=1)\n",
    "        self.parent.resizable(width=TRUE, height=TRUE)\n",
    "\n",
    "        # 图片加载\n",
    "        self.entry = tk.Entry(self.frame)\n",
    "        self.entry.grid(row=0, column=0, sticky=E)\n",
    "        self.ldBtn = tk.Button(self.frame, text=\"Loading\", command=self.loadImage1)\n",
    "        self.ldBtn.grid(row=0, column=1, sticky=W)\n",
    "\n",
    "        self.entry2 = tk.Entry(self.frame)\n",
    "        self.entry2.grid(row=0, column=2, sticky=E)\n",
    "        self.ldBtn2 = tk.Button(self.frame, text=\"Loading\", command=self.loadImage2)\n",
    "        self.ldBtn2.grid(row=0, column=3, sticky=W)\n",
    "\n",
    "        # 显示窗口\n",
    "        self.mainPanel = Canvas(self.frame, cursor='arrow')\n",
    "        self.mainPanel.bind(\"<Button-1>\", self.mouseClick1)\n",
    "        self.mainPanel.grid(row=1, column=0, rowspan=4, sticky=NW)\n",
    "\n",
    "        self.mainPanel2 = Canvas(self.frame, cursor='arrow')\n",
    "        self.mainPanel2.bind(\"<Button-1>\", self.mouseClick2)\n",
    "        self.mainPanel2.grid(row=1, column=2, rowspan=4, sticky=NW)\n",
    "\n",
    "        # 控制和显示台\n",
    "        self.ctrPanel = Frame(self.frame)\n",
    "        self.ctrPanel.grid(row=5, column=0, columnspan=4, sticky=W + E)\n",
    "        self.clearBtn = Button(self.ctrPanel, text='Clear', width=10, command=self.clear1)\n",
    "        self.clearBtn.grid(row=5, column=0, sticky=W)\n",
    "        self.conBtn = Button(self.ctrPanel, text='TPS Convert', width=10, command=self.conver1)\n",
    "        self.conBtn.grid(row=5, column=1, sticky=W)\n",
    "\n",
    "        self.ctrPanel2 = Frame(self.frame)\n",
    "        self.ctrPanel2.grid(row=5, column=2, columnspan=4, sticky=W + E)\n",
    "        self.clearBtn2 = Button(self.ctrPanel2, text='Clear', width=10, command=self.clear2)\n",
    "        self.clearBtn2.grid(row=5, column=0, sticky=W)\n",
    "        self.conBtn2 = Button(self.ctrPanel2, text='TPS Convert', width=10, command=self.conver2)\n",
    "        self.conBtn2.grid(row=5, column=1, sticky=W)\n",
    "\n",
    "    def loadImage1(self):\n",
    "        \"\"\"\n",
    "        加载图片1\n",
    "        :return:\n",
    "        \"\"\"\n",
    "        or_dir = self.entry.get()\n",
    "        or_dir = or_dir.replace('\\\\', '/')\n",
    "        # 路径是否存在\n",
    "        if not os.path.exists(or_dir):\n",
    "            messagebox.showerror(\"Error!\", message = \"路径不存在\")\n",
    "        else:\n",
    "            pil_image = Image.open(or_dir)\n",
    "            self.image1 = ImageTk.PhotoImage(pil_image)\n",
    "            self.mainPanel.config(width=max(self.image1.width(), 512), height=max(self.image1.height(), 512))\n",
    "            self.mainPanel.create_image(0, 0, image=self.image1, anchor=NW)\n",
    "\n",
    "    def loadImage2(self):\n",
    "        \"\"\"\n",
    "        加载图片2\n",
    "        :return:\n",
    "        \"\"\"\n",
    "        or_dir = self.entry2.get()\n",
    "        or_dir = or_dir.replace('\\\\', '/')\n",
    "        # 路径是否存在\n",
    "        if not os.path.exists(or_dir):\n",
    "            messagebox.showerror(\"Error!\", message = \"路径不存在\")\n",
    "        else:\n",
    "            pil_image = Image.open(or_dir)\n",
    "            # 加载图像\n",
    "            self.image2 = ImageTk.PhotoImage(pil_image)\n",
    "            self.mainPanel2.config(width=max(self.image2.width(), 512), height=max(self.image2.height(), 512))\n",
    "            self.mainPanel2.create_image(0, 0, image=self.image2, anchor=NW)\n",
    "\n",
    "    def mouseClick1(self, event):\n",
    "        \"\"\"\n",
    "        鼠标点击动作，增加一个记录\n",
    "        :param event:\n",
    "        :return:\n",
    "        \"\"\"\n",
    "        self.label1_record.append([event.x, event.y])\n",
    "        self.mainPanel.create_oval(event.x-10, event.y-10, event.x+10, event.y+10, fill=\"red\", tag=\"r1\")\n",
    "\n",
    "    def mouseClick2(self, event):\n",
    "        \"\"\"\n",
    "        鼠标点击动作，增加一个记录\n",
    "        :param event:\n",
    "        :return:\n",
    "        \"\"\"\n",
    "        self.label2_record.append([event.x, event.y])\n",
    "        self.mainPanel2.create_oval(event.x-10, event.y-10, event.x+10, event.y+10, fill=\"red\", tag=\"r2\")\n",
    "\n",
    "    def clear1(self):\n",
    "        \"\"\"\n",
    "        清除图片1标注点和记录\n",
    "        :return:\n",
    "        \"\"\"\n",
    "        self.label1_record=[]\n",
    "        self.mainPanel.delete(\"r1\")\n",
    "\n",
    "    def clear2(self):\n",
    "        \"\"\"\n",
    "        清除图片2的记录\n",
    "        :return:\n",
    "        \"\"\"\n",
    "        self.label2_record=[]\n",
    "        self.mainPanel2.delete(\"r2\")\n",
    "\n",
    "    def conver1(self):\n",
    "        \"\"\"\n",
    "        图片TPS变换\n",
    "        :return:\n",
    "        \"\"\"\n",
    "        n1 = len(self.label1_record)\n",
    "        n2 = len(self.label2_record)\n",
    "        if n1 == n2:\n",
    "            tps = cv2.createThinPlateSplineShapeTransformer()\n",
    "            sshape = np.array(self.label1_record, np.int32)\n",
    "            tshape = np.array(self.label2_record, np.int32)\n",
    "            sshape = sshape.reshape(1, -1, 2)\n",
    "            tshape = tshape.reshape(1, -1, 2)\n",
    "\n",
    "            matches = list()\n",
    "            for i in range(n1):\n",
    "                matches.append(cv2.DMatch(i, i, 0))\n",
    "            tps.estimateTransformation(tshape, sshape, matches)\n",
    "            or_dir = self.entry.get()\n",
    "            or_dir = or_dir.replace('\\\\', '/')\n",
    "            img2_o = cv2.imread(or_dir)\n",
    "            out_img = tps.warpImage(img2_o)\n",
    "            cv2.imshow('1', out_img)\n",
    "\n",
    "\n",
    "    def conver2(self):\n",
    "        \"\"\"\n",
    "        图片TPS变换\n",
    "        :return:\n",
    "        \"\"\"\n",
    "        n1 = len(self.label1_record)\n",
    "        n2 = len(self.label2_record)\n",
    "        if n1 == n2:\n",
    "            tps = cv2.createThinPlateSplineShapeTransformer()\n",
    "            sshape = np.array(self.label2_record, np.int32)\n",
    "            tshape = np.array(self.label1_record, np.int32)\n",
    "            sshape = sshape.reshape(1, -1, 2)\n",
    "            tshape = tshape.reshape(1, -1, 2)\n",
    "\n",
    "            matches = list()\n",
    "            for i in range(n2):\n",
    "                matches.append(cv2.DMatch(i, i, 0))\n",
    "            tps.estimateTransformation(tshape, sshape, matches)\n",
    "            or_dir = self.entry2.get()\n",
    "            or_dir = or_dir.replace('\\\\', '/')\n",
    "            img2_o = cv2.imread(or_dir)\n",
    "            out_img = tps.warpImage(img2_o)\n",
    "            cv2.imshow('1', out_img)\n",
    "\n",
    "\n",
    "root = tk.Tk()\n",
    "tool = LabelTool(root)\n",
    "root.mainloop()"
   ]
  },
  {
   "cell_type": "code",
   "execution_count": 2,
   "outputs": [
    {
     "data": {
      "text/plain": "array([[134, 247],\n       [161, 237],\n       [186, 269],\n       [152, 285],\n       [282, 274],\n       [304, 233],\n       [344, 241],\n       [324, 280],\n       [215, 343],\n       [196, 399],\n       [224, 379],\n       [275, 398],\n       [230, 388]])"
     },
     "execution_count": 2,
     "metadata": {},
     "output_type": "execute_result"
    }
   ],
   "source": [
    "import numpy as np\n",
    "coordinates = [[[134, 247], [161, 237], [186, 269], [152, 285], [282, 274], [304, 233], [344, 241], [324, 280], [215, 343], [196, 399], [224, 379], [275, 398], [230, 388]], [[152, 250], [183, 242], [202, 279], [172, 284], [293, 280], [321, 243], [353, 249], [335, 283], [235, 349], [228, 408], [245, 380], [304, 400], [259, 429]]]\n",
    "sshape = np.array(coordinates[0], np.int32)\n",
    "sshape"
   ],
   "metadata": {
    "collapsed": false,
    "pycharm": {
     "name": "#%%\n"
    }
   }
  },
  {
   "cell_type": "code",
   "execution_count": 3,
   "outputs": [
    {
     "data": {
      "text/plain": "True"
     },
     "execution_count": 3,
     "metadata": {},
     "output_type": "execute_result"
    }
   ],
   "source": [
    "import numpy as np\n",
    "import cv2\n",
    "\n",
    "coordinates = [[[181, 259], [211, 265], [234, 276], [210, 272], [319, 274], [340, 262], [367, 257], [346, 269], [291, 354], [246, 404], [281, 391], [306, 401], [282, 398]], [[152, 250], [183, 242], [202, 279], [172, 284], [293, 280], [321, 243], [353, 249], [335, 283], [235, 349], [228, 408], [245, 380], [304, 400], [259, 429]]]\n",
    "\n",
    "tps = cv2.createThinPlateSplineShapeTransformer()\n",
    "sshape = np.array(coordinates[0], np.int32)\n",
    "tshape = np.array(coordinates[1], np.int32)\n",
    "sshape = sshape.reshape(1, -1, 2)\n",
    "tshape = tshape.reshape(1, -1, 2)\n",
    "\n",
    "matches = list()\n",
    "for i in range(13):\n",
    "    matches.append(cv2.DMatch(i, i, 0))\n",
    "tps.estimateTransformation(tshape, sshape, matches)\n",
    "img2_o = cv2.imread('E:/cat/original_images/flickr_cat_000765.jpg')\n",
    "out_img = tps.warpImage(img2_o)\n",
    "cv2.imwrite('3.png', out_img)"
   ],
   "metadata": {
    "collapsed": false,
    "pycharm": {
     "name": "#%%\n"
    }
   }
  },
  {
   "cell_type": "code",
   "execution_count": 4,
   "outputs": [],
   "source": [
    "area1 = np.array(coordinates[1][0:4], np.int32)\n",
    "area2 = np.array(coordinates[1][4:8], np.int32)\n",
    "area3 = np.array(coordinates[1][9:13], np.int32)"
   ],
   "metadata": {
    "collapsed": false,
    "pycharm": {
     "name": "#%%\n"
    }
   }
  },
  {
   "cell_type": "code",
   "execution_count": 5,
   "outputs": [
    {
     "data": {
      "text/plain": "True"
     },
     "execution_count": 5,
     "metadata": {},
     "output_type": "execute_result"
    }
   ],
   "source": [
    "or_image = cv2.imread('2.png')\n",
    "\n",
    "mask = np.zeros(out_img.shape, out_img.dtype)\n",
    "cv2.fillPoly(mask, [area1, area3, area2], (255, 255, 255))\n",
    "cv2.imwrite('4.png', mask)"
   ],
   "metadata": {
    "collapsed": false,
    "pycharm": {
     "name": "#%%\n"
    }
   }
  },
  {
   "cell_type": "code",
   "execution_count": 6,
   "outputs": [
    {
     "ename": "error",
     "evalue": "OpenCV(4.5.4-dev) D:\\a\\opencv-python\\opencv-python\\opencv\\modules\\core\\src\\matrix.cpp:811: error: (-215:Assertion failed) 0 <= roi.x && 0 <= roi.width && roi.x + roi.width <= m.cols && 0 <= roi.y && 0 <= roi.height && roi.y + roi.height <= m.rows in function 'cv::Mat::Mat'\n",
     "output_type": "error",
     "traceback": [
      "\u001B[1;31m---------------------------------------------------------------------------\u001B[0m",
      "\u001B[1;31merror\u001B[0m                                     Traceback (most recent call last)",
      "\u001B[1;32m~\\AppData\\Local\\Temp/ipykernel_35000/2909304800.py\u001B[0m in \u001B[0;36m<module>\u001B[1;34m\u001B[0m\n\u001B[0;32m      1\u001B[0m \u001B[0mcenter\u001B[0m \u001B[1;33m=\u001B[0m \u001B[1;33m(\u001B[0m\u001B[1;36m256\u001B[0m\u001B[1;33m,\u001B[0m \u001B[1;36m350\u001B[0m\u001B[1;33m)\u001B[0m\u001B[1;33m\u001B[0m\u001B[1;33m\u001B[0m\u001B[0m\n\u001B[1;32m----> 2\u001B[1;33m \u001B[0moutput\u001B[0m \u001B[1;33m=\u001B[0m \u001B[0mcv2\u001B[0m\u001B[1;33m.\u001B[0m\u001B[0mseamlessClone\u001B[0m\u001B[1;33m(\u001B[0m\u001B[0mor_image\u001B[0m\u001B[1;33m,\u001B[0m \u001B[0mout_img\u001B[0m\u001B[1;33m,\u001B[0m \u001B[0mmask\u001B[0m\u001B[1;33m,\u001B[0m \u001B[0mcenter\u001B[0m\u001B[1;33m,\u001B[0m \u001B[0mcv2\u001B[0m\u001B[1;33m.\u001B[0m\u001B[0mMIXED_CLONE\u001B[0m\u001B[1;33m)\u001B[0m\u001B[1;33m\u001B[0m\u001B[1;33m\u001B[0m\u001B[0m\n\u001B[0m\u001B[0;32m      3\u001B[0m \u001B[1;33m\u001B[0m\u001B[0m\n\u001B[0;32m      4\u001B[0m \u001B[1;31m# cv2.fillPoly(mask, [sshape[4:8], tshape[4:8]], (255, 255, 255))\u001B[0m\u001B[1;33m\u001B[0m\u001B[1;33m\u001B[0m\u001B[1;33m\u001B[0m\u001B[0m\n\u001B[0;32m      5\u001B[0m \u001B[1;31m# center = (256, 256)\u001B[0m\u001B[1;33m\u001B[0m\u001B[1;33m\u001B[0m\u001B[1;33m\u001B[0m\u001B[0m\n",
      "\u001B[1;31merror\u001B[0m: OpenCV(4.5.4-dev) D:\\a\\opencv-python\\opencv-python\\opencv\\modules\\core\\src\\matrix.cpp:811: error: (-215:Assertion failed) 0 <= roi.x && 0 <= roi.width && roi.x + roi.width <= m.cols && 0 <= roi.y && 0 <= roi.height && roi.y + roi.height <= m.rows in function 'cv::Mat::Mat'\n"
     ]
    }
   ],
   "source": [
    "center = (256, 350)\n",
    "output = cv2.seamlessClone(or_image, out_img, mask, center, cv2.MIXED_CLONE)\n",
    "\n",
    "# cv2.fillPoly(mask, [sshape[4:8], tshape[4:8]], (255, 255, 255))\n",
    "# center = (256, 256)\n",
    "# output = cv2.seamlessClone(output, targimg, mask, center, cv2.NORMAL_CLONE)\n",
    "\n",
    "# cv2.fillPoly(mask, [sshape[9:13], tshape[9:13]], (255, 255, 255))\n",
    "# center = (256, 256)\n",
    "# output = cv2.seamlessClone(out_img, targimg, mask, center, cv2.NORMAL_CLONE)\n",
    "\n",
    "cv2.imwrite('5.png', output)"
   ],
   "metadata": {
    "collapsed": false,
    "pycharm": {
     "name": "#%%\n"
    }
   }
  }
 ],
 "metadata": {
  "kernelspec": {
   "display_name": "Python 3",
   "language": "python",
   "name": "python3"
  },
  "language_info": {
   "codemirror_mode": {
    "name": "ipython",
    "version": 2
   },
   "file_extension": ".py",
   "mimetype": "text/x-python",
   "name": "python",
   "nbconvert_exporter": "python",
   "pygments_lexer": "ipython2",
   "version": "2.7.6"
  }
 },
 "nbformat": 4,
 "nbformat_minor": 0
}